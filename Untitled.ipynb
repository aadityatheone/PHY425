{
 "cells": [
  {
   "cell_type": "code",
   "execution_count": 9,
   "metadata": {},
   "outputs": [
    {
     "name": "stdout",
     "output_type": "stream",
     "text": [
      "[[60.  0. 26.  1.]\n",
      " [60.  3. 75.  0.]\n",
      " [45. 90. 31.  0.]]\n",
      "[        nan -0.00577077 -0.02005485]\n"
     ]
    },
    {
     "name": "stderr",
     "output_type": "stream",
     "text": [
      "/home/aaditya/anaconda3/lib/python3.7/site-packages/ipykernel_launcher.py:24: RuntimeWarning: divide by zero encountered in double_scalars\n",
      "/home/aaditya/anaconda3/lib/python3.7/site-packages/ipykernel_launcher.py:25: RuntimeWarning: invalid value encountered in multiply\n",
      "/home/aaditya/anaconda3/lib/python3.7/site-packages/ipykernel_launcher.py:19: RuntimeWarning: invalid value encountered in true_divide\n"
     ]
    }
   ],
   "source": [
    "import numpy as np\n",
    "A = np.array([[60, 0, 26], [60, 3, 75], [45, 90, 31]], dtype='float')\n",
    "b = np.array([1, 0, 0])\n",
    "\n",
    "Ab = np.hstack([A, b.reshape(-1, 1)])\n",
    "\n",
    "print(Ab)\n",
    "n = len(b)\n",
    "\n",
    "for i in range(n):\n",
    "    a = Ab[i]\n",
    "\n",
    "    for j in range(i + 1, n):\n",
    "        b = Ab[j]\n",
    "        m = a[i] / b[i]\n",
    "        Ab[j] = a - m * b\n",
    "\n",
    "for i in range(n - 1, -1, -1):\n",
    "    Ab[i] = Ab[i] / Ab[i, i]\n",
    "    a = Ab[i]\n",
    "\n",
    "    for j in range(i - 1, -1, -1):\n",
    "        b = Ab[j]\n",
    "        m = a[i] / b[i]\n",
    "        Ab[j] = a - m * b\n",
    "\n",
    "x = Ab[:, n]\n",
    "print(x)"
   ]
  },
  {
   "cell_type": "code",
   "execution_count": null,
   "metadata": {},
   "outputs": [],
   "source": []
  }
 ],
 "metadata": {
  "kernelspec": {
   "display_name": "Python 2",
   "language": "python",
   "name": "python2"
  },
  "language_info": {
   "codemirror_mode": {
    "name": "ipython",
    "version": 3
   },
   "file_extension": ".py",
   "mimetype": "text/x-python",
   "name": "python",
   "nbconvert_exporter": "python",
   "pygments_lexer": "ipython3",
   "version": "3.7.4"
  }
 },
 "nbformat": 4,
 "nbformat_minor": 2
}
